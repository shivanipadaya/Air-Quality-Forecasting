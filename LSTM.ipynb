{
 "cells": [
  {
   "cell_type": "markdown",
   "metadata": {},
   "source": [
    "### LSTM for Air Quality Forecasting"
   ]
  },
  {
   "cell_type": "code",
   "execution_count": 1,
   "metadata": {},
   "outputs": [],
   "source": [
    "import pandas as pd\n",
    "import numpy as np\n",
    "import seaborn as sns\n",
    "import matplotlib.pyplot as plt\n",
    "%matplotlib inline\n",
    "\n",
    "from tensorflow.keras.models import Sequential\n",
    "from tensorflow.keras.layers import LSTM, Dense, Flatten\n",
    "\n",
    "from sklearn.metrics import mean_absolute_error, mean_squared_error"
   ]
  },
  {
   "cell_type": "code",
   "execution_count": 2,
   "metadata": {},
   "outputs": [],
   "source": [
    "df = pd.read_excel('CO2 dataset.xlsx')\n",
    "mylist = df.CO2.to_list()"
   ]
  },
  {
   "cell_type": "markdown",
   "metadata": {},
   "source": [
    "### Data Preprocessing\n"
   ]
  },
  {
   "cell_type": "code",
   "execution_count": 3,
   "metadata": {},
   "outputs": [],
   "source": [
    "def prep_data(time_series, n_features):\n",
    "    X, y = [], []\n",
    "    for i in range(len(time_series)):\n",
    "        end_ix = i + n_features\n",
    "        if end_ix > len(time_series)-1:\n",
    "            break\n",
    "            \n",
    "        seq_x = time_series[i:end_ix]\n",
    "        seq_y = time_series[end_ix]\n",
    "\n",
    "        X.append(seq_x)\n",
    "        y.append(seq_y)\n",
    "    return np.array(X), np.array(y)"
   ]
  },
  {
   "cell_type": "code",
   "execution_count": 4,
   "metadata": {},
   "outputs": [],
   "source": [
    "n_features = 3\n",
    "X,y = prep_data(mylist[:200],n_features)\n",
    "X_test,y_test = prep_data(mylist[200:],n_features)"
   ]
  },
  {
   "cell_type": "code",
   "execution_count": 5,
   "metadata": {},
   "outputs": [
    {
     "data": {
      "text/plain": [
       "(197, 3)"
      ]
     },
     "execution_count": 5,
     "metadata": {},
     "output_type": "execute_result"
    }
   ],
   "source": [
    "X.shape"
   ]
  },
  {
   "cell_type": "code",
   "execution_count": 6,
   "metadata": {},
   "outputs": [
    {
     "data": {
      "text/plain": [
       "(12, 3)"
      ]
     },
     "execution_count": 6,
     "metadata": {},
     "output_type": "execute_result"
    }
   ],
   "source": [
    "X_test.shape"
   ]
  },
  {
   "cell_type": "code",
   "execution_count": 7,
   "metadata": {},
   "outputs": [],
   "source": [
    "n_fshape = 1\n",
    "X = X.reshape((X.shape[0], X.shape[1], n_fshape))\n",
    "#X_test = X.reshape((X.shape[0], X.shape[1], n_fshape))"
   ]
  },
  {
   "cell_type": "markdown",
   "metadata": {},
   "source": [
    "### Build LSTM"
   ]
  },
  {
   "cell_type": "code",
   "execution_count": 8,
   "metadata": {},
   "outputs": [
    {
     "name": "stdout",
     "output_type": "stream",
     "text": [
      "Epoch 1/100\n",
      "7/7 [==============================] - 0s 3ms/step - loss: 74.2710\n",
      "Epoch 2/100\n",
      "7/7 [==============================] - 0s 9ms/step - loss: 65.2776\n",
      "Epoch 3/100\n",
      "7/7 [==============================] - 0s 9ms/step - loss: 51.3036\n",
      "Epoch 4/100\n",
      "7/7 [==============================] - 0s 6ms/step - loss: 26.9320\n",
      "Epoch 5/100\n",
      "7/7 [==============================] - 0s 5ms/step - loss: 6.9483\n",
      "Epoch 6/100\n",
      "7/7 [==============================] - 0s 13ms/step - loss: 6.6277\n",
      "Epoch 7/100\n",
      "7/7 [==============================] - 0s 17ms/step - loss: 3.9289\n",
      "Epoch 8/100\n",
      "7/7 [==============================] - 0s 13ms/step - loss: 3.6318\n",
      "Epoch 9/100\n",
      "7/7 [==============================] - 0s 6ms/step - loss: 2.4346\n",
      "Epoch 10/100\n",
      "7/7 [==============================] - 0s 5ms/step - loss: 2.3107\n",
      "Epoch 11/100\n",
      "7/7 [==============================] - 0s 5ms/step - loss: 1.5912\n",
      "Epoch 12/100\n",
      "7/7 [==============================] - 0s 6ms/step - loss: 1.3740\n",
      "Epoch 13/100\n",
      "7/7 [==============================] - 0s 5ms/step - loss: 1.1068\n",
      "Epoch 14/100\n",
      "7/7 [==============================] - 0s 5ms/step - loss: 0.9849\n",
      "Epoch 15/100\n",
      "7/7 [==============================] - 0s 6ms/step - loss: 0.9612\n",
      "Epoch 16/100\n",
      "7/7 [==============================] - 0s 6ms/step - loss: 0.9050\n",
      "Epoch 17/100\n",
      "7/7 [==============================] - 0s 5ms/step - loss: 0.8394\n",
      "Epoch 18/100\n",
      "7/7 [==============================] - 0s 5ms/step - loss: 0.8286\n",
      "Epoch 19/100\n",
      "7/7 [==============================] - 0s 5ms/step - loss: 0.7712\n",
      "Epoch 20/100\n",
      "7/7 [==============================] - 0s 5ms/step - loss: 0.7561\n",
      "Epoch 21/100\n",
      "7/7 [==============================] - 0s 6ms/step - loss: 0.7465\n",
      "Epoch 22/100\n",
      "7/7 [==============================] - 0s 6ms/step - loss: 0.7405\n",
      "Epoch 23/100\n",
      "7/7 [==============================] - 0s 6ms/step - loss: 0.6976\n",
      "Epoch 24/100\n",
      "7/7 [==============================] - 0s 5ms/step - loss: 0.6625\n",
      "Epoch 25/100\n",
      "7/7 [==============================] - 0s 8ms/step - loss: 0.6371\n",
      "Epoch 26/100\n",
      "7/7 [==============================] - 0s 7ms/step - loss: 0.6325\n",
      "Epoch 27/100\n",
      "7/7 [==============================] - 0s 11ms/step - loss: 0.6013\n",
      "Epoch 28/100\n",
      "7/7 [==============================] - 0s 9ms/step - loss: 0.6073\n",
      "Epoch 29/100\n",
      "7/7 [==============================] - 0s 7ms/step - loss: 0.5649\n",
      "Epoch 30/100\n",
      "7/7 [==============================] - 0s 9ms/step - loss: 0.5970\n",
      "Epoch 31/100\n",
      "7/7 [==============================] - 0s 8ms/step - loss: 0.6376\n",
      "Epoch 32/100\n",
      "7/7 [==============================] - 0s 8ms/step - loss: 0.5350\n",
      "Epoch 33/100\n",
      "7/7 [==============================] - 0s 9ms/step - loss: 0.5654\n",
      "Epoch 34/100\n",
      "7/7 [==============================] - 0s 9ms/step - loss: 0.5291\n",
      "Epoch 35/100\n",
      "7/7 [==============================] - 0s 10ms/step - loss: 0.5203\n",
      "Epoch 36/100\n",
      "7/7 [==============================] - 0s 7ms/step - loss: 0.4958\n",
      "Epoch 37/100\n",
      "7/7 [==============================] - 0s 9ms/step - loss: 0.5642\n",
      "Epoch 38/100\n",
      "7/7 [==============================] - 0s 7ms/step - loss: 0.4705\n",
      "Epoch 39/100\n",
      "7/7 [==============================] - 0s 10ms/step - loss: 0.4671\n",
      "Epoch 40/100\n",
      "7/7 [==============================] - 0s 8ms/step - loss: 0.4546\n",
      "Epoch 41/100\n",
      "7/7 [==============================] - 0s 6ms/step - loss: 0.4781\n",
      "Epoch 42/100\n",
      "7/7 [==============================] - 0s 7ms/step - loss: 0.5603\n",
      "Epoch 43/100\n",
      "7/7 [==============================] - 0s 7ms/step - loss: 0.4643\n",
      "Epoch 44/100\n",
      "7/7 [==============================] - 0s 6ms/step - loss: 0.4492\n",
      "Epoch 45/100\n",
      "7/7 [==============================] - 0s 8ms/step - loss: 0.4751\n",
      "Epoch 46/100\n",
      "7/7 [==============================] - 0s 9ms/step - loss: 0.4681\n",
      "Epoch 47/100\n",
      "7/7 [==============================] - 0s 13ms/step - loss: 0.4514\n",
      "Epoch 48/100\n",
      "7/7 [==============================] - 0s 11ms/step - loss: 0.4219\n",
      "Epoch 49/100\n",
      "7/7 [==============================] - 0s 11ms/step - loss: 0.4343\n",
      "Epoch 50/100\n",
      "7/7 [==============================] - 0s 12ms/step - loss: 0.4378\n",
      "Epoch 51/100\n",
      "7/7 [==============================] - 0s 8ms/step - loss: 0.4175\n",
      "Epoch 52/100\n",
      "7/7 [==============================] - 0s 9ms/step - loss: 0.4233\n",
      "Epoch 53/100\n",
      "7/7 [==============================] - 0s 12ms/step - loss: 0.4198\n",
      "Epoch 54/100\n",
      "7/7 [==============================] - 0s 10ms/step - loss: 0.4048\n",
      "Epoch 55/100\n",
      "7/7 [==============================] - 0s 7ms/step - loss: 0.4003\n",
      "Epoch 56/100\n",
      "7/7 [==============================] - 0s 11ms/step - loss: 0.4107\n",
      "Epoch 57/100\n",
      "7/7 [==============================] - 0s 7ms/step - loss: 0.3938\n",
      "Epoch 58/100\n",
      "7/7 [==============================] - 0s 7ms/step - loss: 0.3881\n",
      "Epoch 59/100\n",
      "7/7 [==============================] - 0s 8ms/step - loss: 0.3911\n",
      "Epoch 60/100\n",
      "7/7 [==============================] - 0s 6ms/step - loss: 0.4248\n",
      "Epoch 61/100\n",
      "7/7 [==============================] - 0s 6ms/step - loss: 0.3769\n",
      "Epoch 62/100\n",
      "7/7 [==============================] - 0s 6ms/step - loss: 0.3784\n",
      "Epoch 63/100\n",
      "7/7 [==============================] - 0s 5ms/step - loss: 0.3642\n",
      "Epoch 64/100\n",
      "7/7 [==============================] - 0s 5ms/step - loss: 0.3668\n",
      "Epoch 65/100\n",
      "7/7 [==============================] - 0s 6ms/step - loss: 0.3713\n",
      "Epoch 66/100\n",
      "7/7 [==============================] - 0s 7ms/step - loss: 0.4234\n",
      "Epoch 67/100\n",
      "7/7 [==============================] - 0s 6ms/step - loss: 0.3594\n",
      "Epoch 68/100\n",
      "7/7 [==============================] - 0s 7ms/step - loss: 0.3737\n",
      "Epoch 69/100\n",
      "7/7 [==============================] - 0s 6ms/step - loss: 0.3446\n",
      "Epoch 70/100\n",
      "7/7 [==============================] - 0s 7ms/step - loss: 0.3458\n",
      "Epoch 71/100\n",
      "7/7 [==============================] - 0s 7ms/step - loss: 0.3709\n",
      "Epoch 72/100\n",
      "7/7 [==============================] - 0s 7ms/step - loss: 0.3507\n",
      "Epoch 73/100\n",
      "7/7 [==============================] - 0s 8ms/step - loss: 0.3482\n",
      "Epoch 74/100\n",
      "7/7 [==============================] - 0s 8ms/step - loss: 0.3602\n",
      "Epoch 75/100\n",
      "7/7 [==============================] - 0s 7ms/step - loss: 0.3647\n",
      "Epoch 76/100\n",
      "7/7 [==============================] - 0s 10ms/step - loss: 0.3539\n",
      "Epoch 77/100\n",
      "7/7 [==============================] - 0s 8ms/step - loss: 0.4122\n",
      "Epoch 78/100\n",
      "7/7 [==============================] - 0s 7ms/step - loss: 0.3430\n",
      "Epoch 79/100\n",
      "7/7 [==============================] - 0s 8ms/step - loss: 0.3360\n",
      "Epoch 80/100\n",
      "7/7 [==============================] - 0s 6ms/step - loss: 0.3231\n",
      "Epoch 81/100\n",
      "7/7 [==============================] - 0s 10ms/step - loss: 0.3286\n",
      "Epoch 82/100\n",
      "7/7 [==============================] - 0s 8ms/step - loss: 0.3316\n",
      "Epoch 83/100\n",
      "7/7 [==============================] - 0s 8ms/step - loss: 0.3366\n",
      "Epoch 84/100\n",
      "7/7 [==============================] - 0s 7ms/step - loss: 0.3963\n",
      "Epoch 85/100\n",
      "7/7 [==============================] - 0s 9ms/step - loss: 0.3418\n",
      "Epoch 86/100\n",
      "7/7 [==============================] - 0s 9ms/step - loss: 0.3730\n",
      "Epoch 87/100\n",
      "7/7 [==============================] - 0s 10ms/step - loss: 0.3366\n",
      "Epoch 88/100\n",
      "7/7 [==============================] - 0s 7ms/step - loss: 0.4055\n",
      "Epoch 89/100\n",
      "7/7 [==============================] - 0s 7ms/step - loss: 0.3865\n",
      "Epoch 90/100\n",
      "7/7 [==============================] - 0s 8ms/step - loss: 0.4305\n",
      "Epoch 91/100\n",
      "7/7 [==============================] - 0s 9ms/step - loss: 0.3932\n",
      "Epoch 92/100\n",
      "7/7 [==============================] - 0s 7ms/step - loss: 0.3900\n",
      "Epoch 93/100\n",
      "7/7 [==============================] - 0s 6ms/step - loss: 0.3759\n",
      "Epoch 94/100\n",
      "7/7 [==============================] - 0s 7ms/step - loss: 0.3267\n",
      "Epoch 95/100\n",
      "7/7 [==============================] - 0s 10ms/step - loss: 0.3076\n",
      "Epoch 96/100\n",
      "7/7 [==============================] - 0s 7ms/step - loss: 0.3053\n",
      "Epoch 97/100\n",
      "7/7 [==============================] - 0s 7ms/step - loss: 0.3145\n",
      "Epoch 98/100\n",
      "7/7 [==============================] - 0s 7ms/step - loss: 0.3127\n",
      "Epoch 99/100\n",
      "7/7 [==============================] - 0s 6ms/step - loss: 0.3426\n",
      "Epoch 100/100\n",
      "7/7 [==============================] - 0s 10ms/step - loss: 0.3495\n"
     ]
    },
    {
     "data": {
      "text/plain": [
       "<tensorflow.python.keras.callbacks.History at 0x2d6d3b97070>"
      ]
     },
     "execution_count": 8,
     "metadata": {},
     "output_type": "execute_result"
    }
   ],
   "source": [
    "model = Sequential()\n",
    "\n",
    "model.add(LSTM(50, activation='relu', return_sequences=True, input_shape=(n_features ,n_fshape)))\n",
    "model.add(LSTM(50, activation='relu'))\n",
    "model.add(Dense(1))\n",
    "\n",
    "model.compile(optimizer='adam', loss='mse')\n",
    "model.fit(X, y, epochs=100, verbose=1)"
   ]
  },
  {
   "cell_type": "code",
   "execution_count": 9,
   "metadata": {},
   "outputs": [
    {
     "name": "stdout",
     "output_type": "stream",
     "text": [
      "[14.672999]\n",
      "[14.672999, 14.571199, 14.346914, 14.1503525, 13.978943, 13.804387, 13.632618, 13.467546, 13.306956, 13.15032]\n"
     ]
    }
   ],
   "source": [
    "# demonstrate prediction for next 10 days\n",
    "x_input = np.array([15.60000 ,15.60000, 14.80000])\n",
    "temp_input=list(x_input)\n",
    "lst_output=[]\n",
    "i=0\n",
    "while(i<10):\n",
    "    \n",
    "    if(len(temp_input)>3):\n",
    "        x_input=np.array(temp_input[1:])\n",
    "        #print(x_input)\n",
    "        x_input = x_input.reshape((1,  n_features, n_fshape))\n",
    "        #print(x_input)\n",
    "        yhat = model.predict(x_input, verbose=0)\n",
    "        temp_input.append(yhat[0][0])\n",
    "        temp_input=temp_input[1:]\n",
    "        #print(temp_input)\n",
    "        lst_output.append(yhat[0][0])\n",
    "        i=i+1\n",
    "    else:\n",
    "        x_input = x_input.reshape((1, n_features, n_fshape))\n",
    "        yhat = model.predict(x_input, verbose=0)\n",
    "        print(yhat[0])\n",
    "        temp_input.append(yhat[0][0])\n",
    "        lst_output.append(yhat[0][0])\n",
    "        i=i+1\n",
    "    \n",
    "\n",
    "print(lst_output)"
   ]
  },
  {
   "cell_type": "code",
   "execution_count": 10,
   "metadata": {},
   "outputs": [
    {
     "data": {
      "text/plain": [
       "array([[[0.00555],\n",
       "        [0.00548],\n",
       "        [0.00542]]])"
      ]
     },
     "execution_count": 10,
     "metadata": {},
     "output_type": "execute_result"
    }
   ],
   "source": [
    "X[2].reshape((1, n_features, n_fshape))"
   ]
  },
  {
   "cell_type": "code",
   "execution_count": 11,
   "metadata": {},
   "outputs": [],
   "source": [
    "def op(vals):\n",
    "    y_op = []\n",
    "    final = []\n",
    "    for i in range(len(vals)):\n",
    "        op = model.predict(vals[i].reshape((1, n_features, n_fshape)))\n",
    "        y_op.append(op)    \n",
    "    return y_op\n",
    "\n",
    "def thefinalop(test):\n",
    "    predictions=op(test)\n",
    "    final = []\n",
    "    for i in range(len(test)):\n",
    "        final.append(predictions[i][0][0])\n",
    "    return final"
   ]
  },
  {
   "cell_type": "code",
   "execution_count": 14,
   "metadata": {},
   "outputs": [
    {
     "name": "stdout",
     "output_type": "stream",
     "text": [
      "RMSE: 0.5810943138269132\n",
      "MAE: 0.37360731701303257\n"
     ]
    },
    {
     "data": {
      "image/png": "[encoded data removed]",
      "text/plain": [
       "<Figure size 432x288 with 1 Axes>"
      ]
     },
     "metadata": {},
     "output_type": "display_data"
    }
   ],
   "source": [
    "on_train_data=thefinalop(X)\n",
    "\n",
    "sns.set_style('darkgrid')\n",
    "plt.title('Train Data')\n",
    "plt.plot(y)\n",
    "plt.plot(haha)\n",
    "\n",
    "print('RMSE:', np.sqrt(mean_squared_error(y,on_train_data)))\n",
    "print('MAE:', mean_absolute_error(y,on_train_data))"
   ]
  },
  {
   "cell_type": "code",
   "execution_count": 13,
   "metadata": {},
   "outputs": [
    {
     "name": "stdout",
     "output_type": "stream",
     "text": [
      "RMSE: 0.4746583799858832\n",
      "MAE: 0.38429471651713065\n"
     ]
    },
    {
     "data": {
      "image/png": "[encoded data removed]",
      "text/plain": [
       "<Figure size 504x360 with 1 Axes>"
      ]
     },
     "metadata": {},
     "output_type": "display_data"
    }
   ],
   "source": [
    "testing=thefinalop(X_test)\n",
    "\n",
    "plt.figure(figsize=(7,5))\n",
    "sns.set_style('darkgrid')\n",
    "plt.title('Test Data')\n",
    "plt.plot(y_test)\n",
    "plt.plot(testing)\n",
    "\n",
    "print('RMSE:', np.sqrt(mean_squared_error(y_test,testing)))\n",
    "print('MAE:', mean_absolute_error(y_test,testing))"
   ]
  },
  {
   "cell_type": "markdown",
   "metadata": {},
   "source": [
    "Thank you!"
   ]
  }
 ],
 "metadata": {
  "kernelspec": {
   "display_name": "Python 3",
   "language": "python",
   "name": "python3"
  },
  "language_info": {
   "codemirror_mode": {
    "name": "ipython",
    "version": 3
   },
   "file_extension": ".py",
   "mimetype": "text/x-python",
   "name": "python",
   "nbconvert_exporter": "python",
   "pygments_lexer": "ipython3",
   "version": "3.8.5"
  }
 },
 "nbformat": 4,
 "nbformat_minor": 4
}
